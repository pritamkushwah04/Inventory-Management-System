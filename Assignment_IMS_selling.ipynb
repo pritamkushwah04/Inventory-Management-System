{
  "nbformat": 4,
  "nbformat_minor": 0,
  "metadata": {
    "colab": {
      "name": "Assignment IMS selling.ipynb",
      "provenance": [],
      "collapsed_sections": []
    },
    "kernelspec": {
      "name": "python3",
      "display_name": "Python 3"
    },
    "language_info": {
      "name": "python"
    }
  },
  "cells": [
    {
      "cell_type": "code",
      "metadata": {
        "id": "ubylvgOK_THi"
      },
      "source": [
        "import json\n",
        "fd = open('record_fn.json','r')\n",
        "txt=fd.read()\n",
        "fd.close()"
      ],
      "execution_count": 2,
      "outputs": []
    },
    {
      "cell_type": "code",
      "metadata": {
        "id": "FKuCNLhnAu6N"
      },
      "source": [
        "dct = json.loads(txt)"
      ],
      "execution_count": 3,
      "outputs": []
    },
    {
      "cell_type": "code",
      "metadata": {
        "colab": {
          "base_uri": "https://localhost:8080/"
        },
        "id": "nhl7hnurAv3F",
        "outputId": "ae5780eb-61f2-4cbb-c459-bd54de22f45b"
      },
      "source": [
        "#customer Buying product\n",
        " \n",
        "prod_id=str(input(\"Enter product Id: \"))\n",
        "if prod_id in dct:\n",
        "     prod_qn=int(input(\"Enter product quantity: \"))\n",
        "     if(int(dct[prod_id]['curr_stock'])>=int(prod_qn)):\n",
        "       dct[prod_id]['curr_stock']=str(int(dct[prod_id]['curr_stock'])-int(prod_qn))\n",
        "     else:\n",
        "       print(\"sorry entered quantity not in stock\")\n",
        "else:\n",
        "     print(\"Ivalid product id\")\n",
        "  #billing\n",
        "print(\"-----------------------\")\n",
        "print(   \"Product: \",dct[prod_id][\"name\"])\n",
        "print(\"Price: \",dct[prod_id][\"pr\"])\n",
        "print(\"Quan: \",prod_qn)\n",
        "print(\"Amount: \",int(int(prod_qn)*int(dct[prod_id][\"pr\"])))\n",
        "print(\"-----------------------\")\n",
        "\n",
        "#sales file updated\n",
        "fd = open('sales_fn.json','r')\n",
        "s_txt=fd.read()\n",
        "fd.close()\n",
        "sale_dct=json.loads(s_txt)\n",
        "sale_dct[(len(sale_dct)+1)]={ 'name':dct[prod_id]['name'],'price':dct[prod_id]['pr'],'qn':prod_qn,'amount':int(int(dct[prod_id]['pr'])*int(prod_qn)) }\n",
        "\n",
        "\n",
        "sale_str=json.dumps(sale_dct)\n",
        "fd = open('sales_fn.json','w')\n",
        "fd.write(sale_str)\n",
        "fd.close()  \n",
        "   \n"
      ],
      "execution_count": 24,
      "outputs": [
        {
          "output_type": "stream",
          "name": "stdout",
          "text": [
            "Enter product Id: 1011\n",
            "Enter product quantity: 40\n",
            "-----------------------\n",
            "Product:  delta\n",
            "Price:  10\n",
            "Quan:  40\n",
            "Amount:  400\n",
            "-----------------------\n"
          ]
        }
      ]
    },
    {
      "cell_type": "code",
      "metadata": {
        "id": "aoaplYmTIg7F"
      },
      "source": [
        ""
      ],
      "execution_count": null,
      "outputs": []
    }
  ]
}