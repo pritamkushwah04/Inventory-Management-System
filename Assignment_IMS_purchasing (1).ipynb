{
  "nbformat": 4,
  "nbformat_minor": 0,
  "metadata": {
    "colab": {
      "name": "Assignment IMS purchasing.ipynb",
      "provenance": [],
      "collapsed_sections": []
    },
    "kernelspec": {
      "name": "python3",
      "display_name": "Python 3"
    },
    "language_info": {
      "name": "python"
    }
  },
  "cells": [
    {
      "cell_type": "code",
      "metadata": {
        "id": "IAKlrMMSOVRM"
      },
      "source": [
        "fd = open('record.json','r')\n",
        "txt=fd.read()\n",
        "fd.close()\n",
        "dct = json.loads(txt)"
      ],
      "execution_count": 74,
      "outputs": []
    },
    {
      "cell_type": "code",
      "metadata": {
        "id": "NsqZhg6rmCun"
      },
      "source": [
        "while(1):\n",
        "  print(\"-----------------------\")\n",
        "  print(\"Choose from the given options:\")\n",
        "  print(\"press 1 to check stock\")\n",
        "  print(\"press 2 to check low stock\")\n",
        "  print(\"press 3 to update stock manually:\")\n",
        "  print(\"press 4 to Exit:\")\n",
        "  choice = int(input())\n",
        "\n",
        "  if(choice==1):\n",
        "     for i in dct:\n",
        "       print(dct[i]['name'],dct[i]['curr_stock'])\n",
        "  elif(choice==2):\n",
        "     #low stock check\n",
        "    var= 1;\n",
        "    ls_prod_id=[];\n",
        "    for i in dct:\n",
        "       if(int(dct[i]['curr_stock'])<int(dct[i]['min_stock'])):\n",
        "         print(dct[i]['name'],dct[i]['curr_stock'])\n",
        "         ls_prod_id.append(i)\n",
        "         var=0\n",
        "    if(var==1):\n",
        "       print(\"All product are in stock\")\n",
        "    \n",
        "      #complete stock\n",
        "       print(\"press 1 to complete the min stock \")\n",
        "       choice=int(input())\n",
        "       if(choice==1): \n",
        "        for i in ls_prod_id:\n",
        "            print(dct[i]['name'],int(dct[i]['min_stock'])-int(dct[i]['curr_stock']))\n",
        "      #place order\n",
        "       print(\"press 1 to place order\")\n",
        "       choice=int(input())\n",
        "       if(choice==1): \n",
        "        for i in ls_prod_id:\n",
        "         dct[i]['curr_stock']=dct[i]['min_stock'] \n",
        "        print(\"Order placed and product stock updated\")\n",
        "  elif(choice==3):\n",
        "      # updating inventory manually \n",
        "      prod_id=input(\"Enter prod id: \")\n",
        "      if(prod_id in dct.keys()):\n",
        "       prod_stock=input(\"Enter prod stock: \")\n",
        "       dct[prod_id]['curr_stock']=str(int(dct[prod_id]['curr_stock'])+int(prod_stock)) \n",
        "       print(\"product stock updated\")\n",
        "      else:\n",
        "       prod_cat=input(\"Enter prod category: \")\n",
        "       prod_name=input(\"Enter prod name: \")\n",
        "       prod_price=input(\"Enter prod price: \")\n",
        "       prod_ms=input(\"Enter prod min stock: \")\n",
        "       prod_stock=input(\"Enter prod stock: \")\n",
        "       new_prod = {\"name\": prod_name, \"category\": prod_cat, \"pr\": prod_price,\"min_stock\": prod_ms,\"curr_stock\":prod_stock}\n",
        "       dct[prod_id]=new_prod    \n",
        "       print(\"Product added\")      \n",
        "  elif(choice==4):\n",
        "     break;   \n",
        "  else:\n",
        "    print(\"Invalid input \")      \n",
        "       "
      ],
      "execution_count": null,
      "outputs": []
    },
    {
      "cell_type": "code",
      "metadata": {
        "id": "zGMcjT5vw-3N"
      },
      "source": [
        ""
      ],
      "execution_count": 147,
      "outputs": []
    },
    {
      "cell_type": "code",
      "metadata": {
        "id": "CSP0-SqBmkj8"
      },
      "source": [
        "js = json.dumps(dct)\n",
        "fd=open('record.json','w')\n",
        "fd.write(js)\n",
        "fd.close()"
      ],
      "execution_count": 78,
      "outputs": []
    },
    {
      "cell_type": "markdown",
      "metadata": {
        "id": "z-1W-OJg88YI"
      },
      "source": [
        "THE MAIN CODE IN ABOVE"
      ]
    },
    {
      "cell_type": "code",
      "metadata": {
        "id": "n-2-ngjtRcMF"
      },
      "source": [
        "# updating inventory manually\n",
        "prod_id=input(\"Enter prod id: \")\n",
        "if(prod_id in dct.keys()):\n",
        "   prod_stock=input(\"Enter prod stock: \")\n",
        "   dct[prod_id]['curr_stock']=str(int(dct[prod_id]['curr_stock'])+int(prod_stock)) \n",
        "   print(\"Product stock updated\")\n",
        "\n",
        "else:\n",
        "   prod_cat=input(\"Enter prod category: \")\n",
        "   prod_name=input(\"Enter prod name: \")\n",
        "   prod_price=input(\"Enter prod price: \")\n",
        "   prod_ms=input(\"Enter prod min stock: \")\n",
        "   prod_stock=input(\"Enter prod stock: \")\n",
        "   new_prod = {\"name\": prod_name, \"category\": prod_cat, \"pr\": prod_price,\"min_stock\": prod_ms,\"curr_stock\":prod_stock}\n",
        "   dct[prod_id]=new_prod    \n",
        "   print(\"Product added\")\n",
        "\n",
        "\n"
      ],
      "execution_count": null,
      "outputs": []
    },
    {
      "cell_type": "code",
      "metadata": {
        "id": "3BD9UZlXiccD"
      },
      "source": [
        "#stock check\n",
        "var= 1;\n",
        "for i in dct:\n",
        "    if(int(dct[i]['curr_stock'])<int(dct[i]['min_stock'])):\n",
        "       print(dct[i]['name'],dct[i]['curr_stock'])\n",
        "       var=0\n",
        "if(var==1):\n",
        "    print(\"All product are in stock\")\n",
        "\n",
        "#complete the stock i.e place order\n",
        "print(\"----------------------------\")\n",
        "for i in dct:\n",
        "    if(int(dct[i]['curr_stock'])<int(dct[i]['min_stock'])):\n",
        "       print(dct[i]['name'],int(dct[i]['min_stock'])-int(dct[i]['curr_stock']))\n",
        "       \n",
        "\n",
        "       "
      ],
      "execution_count": null,
      "outputs": []
    },
    {
      "cell_type": "code",
      "metadata": {
        "id": "97lg2ZyMTXJg"
      },
      "source": [
        ""
      ],
      "execution_count": 145,
      "outputs": []
    },
    {
      "cell_type": "code",
      "metadata": {
        "id": "gjKcq2AJevdq"
      },
      "source": [
        "fd=open('record.json','w')\n",
        "fd.write(js)\n",
        "fd.close()"
      ],
      "execution_count": 146,
      "outputs": []
    },
    {
      "cell_type": "code",
      "metadata": {
        "id": "AdKbYCnK73iw"
      },
      "source": [
        ""
      ],
      "execution_count": null,
      "outputs": []
    }
  ]
}